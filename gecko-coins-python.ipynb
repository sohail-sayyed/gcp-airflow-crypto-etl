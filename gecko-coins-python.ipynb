{
 "cells": [
  {
   "cell_type": "code",
   "execution_count": 2,
   "metadata": {},
   "outputs": [],
   "source": [
    "import requests\n",
    "import pandas as pd\n"
   ]
  },
  {
   "cell_type": "code",
   "execution_count": 3,
   "metadata": {},
   "outputs": [],
   "source": [
    "headers = {\"accept\": \"application/json\"}\n",
    "url ='https://api.coingecko.com/api/v3/search/trending'\n",
    "var = requests.get(url, headers=headers)"
   ]
  },
  {
   "cell_type": "code",
   "execution_count": 4,
   "metadata": {},
   "outputs": [],
   "source": [
    "response_json = var.json()\n",
    "coins_info = []\n",
    "for i in response_json['coins']:\n",
    "    coin_id = i['item'].get('coin_id', 'N/A')\n",
    "    coin_name = i['item'].get('name', 'N/A')\n",
    "    price_btc = i['item'].get('data', {}).get('price_btc', 'N/A')\n",
    "    market_cap = i['item'].get('data', {}).get('market_cap', 'N/A')\n",
    "    content = i['item']['data'].get('content', {})\n",
    "    if content:\n",
    "        bitcoin_description = content.get('description', 'No description available')\n",
    "    else:\n",
    "        bitcoin_description = None\n",
    "    coins_info.append({'coin_name': coin_name, 'coin_id': coin_id, 'price_btc': price_btc, 'market_cap': market_cap, 'bitcoin_description': bitcoin_description})"
   ]
  },
  {
   "cell_type": "code",
   "execution_count": 10,
   "metadata": {},
   "outputs": [
    {
     "data": {
      "text/plain": [
       "coin_name               object\n",
       "coin_id                  int64\n",
       "price_btc              float64\n",
       "market_cap_usd           int64\n",
       "bitcoin_description     object\n",
       "dtype: object"
      ]
     },
     "execution_count": 10,
     "metadata": {},
     "output_type": "execute_result"
    }
   ],
   "source": [
    "bitcoins_df = pd.DataFrame(coins_info)\n",
    "bitcoins_df['market_cap'] = bitcoins_df['market_cap'].str.replace('[$,]', '', regex=True)\n",
    "bitcoins_df[['price_btc', 'market_cap']] = bitcoins_df[['price_btc', 'market_cap']].apply(pd.to_numeric)\n",
    "bitcoins_df.rename(columns={'market_cap': 'market_cap_usd'}, inplace=True)\n",
    "bitcoins_df"
   ]
  },
  {
   "cell_type": "code",
   "execution_count": null,
   "metadata": {},
   "outputs": [],
   "source": []
  }
 ],
 "metadata": {
  "kernelspec": {
   "display_name": "Python 3.9.7 ('base')",
   "language": "python",
   "name": "python3"
  },
  "language_info": {
   "codemirror_mode": {
    "name": "ipython",
    "version": 3
   },
   "file_extension": ".py",
   "mimetype": "text/x-python",
   "name": "python",
   "nbconvert_exporter": "python",
   "pygments_lexer": "ipython3",
   "version": "3.9.7"
  },
  "orig_nbformat": 4,
  "vscode": {
   "interpreter": {
    "hash": "91bb753b057673435fb8d6f6a083e6c818364728098c7ae050ca3a25357dd754"
   }
  }
 },
 "nbformat": 4,
 "nbformat_minor": 2
}
